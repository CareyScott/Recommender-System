{
 "cells": [
  {
   "cell_type": "code",
   "execution_count": 1,
   "id": "a9ab1388",
   "metadata": {},
   "outputs": [],
   "source": [
    "import pandas as pd\n",
    "import numpy as np"
   ]
  },
  {
   "cell_type": "code",
   "execution_count": 2,
   "id": "07793d13",
   "metadata": {},
   "outputs": [],
   "source": [
    "games=pd.read_csv(r\"video_games.csv\")"
   ]
  },
  {
   "cell_type": "code",
   "execution_count": 3,
   "id": "061a082a",
   "metadata": {
    "scrolled": true
   },
   "outputs": [
    {
     "data": {
      "text/html": [
       "<div>\n",
       "<style scoped>\n",
       "    .dataframe tbody tr th:only-of-type {\n",
       "        vertical-align: middle;\n",
       "    }\n",
       "\n",
       "    .dataframe tbody tr th {\n",
       "        vertical-align: top;\n",
       "    }\n",
       "\n",
       "    .dataframe thead th {\n",
       "        text-align: right;\n",
       "    }\n",
       "</style>\n",
       "<table border=\"1\" class=\"dataframe\">\n",
       "  <thead>\n",
       "    <tr style=\"text-align: right;\">\n",
       "      <th></th>\n",
       "      <th>Title</th>\n",
       "      <th>playerNum</th>\n",
       "      <th>Online</th>\n",
       "      <th>Genre</th>\n",
       "      <th>Publisher</th>\n",
       "      <th>RS</th>\n",
       "      <th>Sales</th>\n",
       "      <th>UP</th>\n",
       "      <th>Console</th>\n",
       "      <th>AgeRating</th>\n",
       "      <th>Year</th>\n",
       "    </tr>\n",
       "  </thead>\n",
       "  <tbody>\n",
       "    <tr>\n",
       "      <th>0</th>\n",
       "      <td>Super Mario 64 DS</td>\n",
       "      <td>1</td>\n",
       "      <td>True</td>\n",
       "      <td>Action</td>\n",
       "      <td>Nintendo</td>\n",
       "      <td>85</td>\n",
       "      <td>4.69</td>\n",
       "      <td>24.95</td>\n",
       "      <td>Nintendo DS</td>\n",
       "      <td>E</td>\n",
       "      <td>2004</td>\n",
       "    </tr>\n",
       "    <tr>\n",
       "      <th>1</th>\n",
       "      <td>Lumines: Puzzle Fusion</td>\n",
       "      <td>1</td>\n",
       "      <td>True</td>\n",
       "      <td>Strategy</td>\n",
       "      <td>Ubisoft</td>\n",
       "      <td>89</td>\n",
       "      <td>0.56</td>\n",
       "      <td>14.95</td>\n",
       "      <td>Sony PSP</td>\n",
       "      <td>E</td>\n",
       "      <td>2004</td>\n",
       "    </tr>\n",
       "    <tr>\n",
       "      <th>2</th>\n",
       "      <td>WarioWare Touched!</td>\n",
       "      <td>2</td>\n",
       "      <td>True</td>\n",
       "      <td>Action,Racing / Driving,Sports</td>\n",
       "      <td>Nintendo</td>\n",
       "      <td>81</td>\n",
       "      <td>0.54</td>\n",
       "      <td>22.95</td>\n",
       "      <td>Nintendo DS</td>\n",
       "      <td>E</td>\n",
       "      <td>2004</td>\n",
       "    </tr>\n",
       "    <tr>\n",
       "      <th>3</th>\n",
       "      <td>Hot Shots Golf: Open Tee</td>\n",
       "      <td>1</td>\n",
       "      <td>True</td>\n",
       "      <td>Sports</td>\n",
       "      <td>Sony</td>\n",
       "      <td>81</td>\n",
       "      <td>0.49</td>\n",
       "      <td>12.95</td>\n",
       "      <td>Sony PSP</td>\n",
       "      <td>E</td>\n",
       "      <td>2004</td>\n",
       "    </tr>\n",
       "    <tr>\n",
       "      <th>4</th>\n",
       "      <td>Spider-Man 2</td>\n",
       "      <td>1</td>\n",
       "      <td>True</td>\n",
       "      <td>Action</td>\n",
       "      <td>Activision</td>\n",
       "      <td>61</td>\n",
       "      <td>0.45</td>\n",
       "      <td>14.95</td>\n",
       "      <td>Nintendo DS</td>\n",
       "      <td>E</td>\n",
       "      <td>2004</td>\n",
       "    </tr>\n",
       "    <tr>\n",
       "      <th>...</th>\n",
       "      <td>...</td>\n",
       "      <td>...</td>\n",
       "      <td>...</td>\n",
       "      <td>...</td>\n",
       "      <td>...</td>\n",
       "      <td>...</td>\n",
       "      <td>...</td>\n",
       "      <td>...</td>\n",
       "      <td>...</td>\n",
       "      <td>...</td>\n",
       "      <td>...</td>\n",
       "    </tr>\n",
       "    <tr>\n",
       "      <th>942</th>\n",
       "      <td>De Blob</td>\n",
       "      <td>4</td>\n",
       "      <td>True</td>\n",
       "      <td>Action</td>\n",
       "      <td>THQ</td>\n",
       "      <td>82</td>\n",
       "      <td>0.45</td>\n",
       "      <td>16.95</td>\n",
       "      <td>Nintendo Wii</td>\n",
       "      <td>M</td>\n",
       "      <td>2008</td>\n",
       "    </tr>\n",
       "    <tr>\n",
       "      <th>943</th>\n",
       "      <td>Sonic Riders: Zero Gravity</td>\n",
       "      <td>4</td>\n",
       "      <td>True</td>\n",
       "      <td>Racing / Driving</td>\n",
       "      <td>Sega</td>\n",
       "      <td>56</td>\n",
       "      <td>0.45</td>\n",
       "      <td>16.95</td>\n",
       "      <td>Nintendo Wii</td>\n",
       "      <td>T</td>\n",
       "      <td>2008</td>\n",
       "    </tr>\n",
       "    <tr>\n",
       "      <th>944</th>\n",
       "      <td>Rhythm Heaven</td>\n",
       "      <td>1</td>\n",
       "      <td>True</td>\n",
       "      <td>Action</td>\n",
       "      <td>Nintendo</td>\n",
       "      <td>83</td>\n",
       "      <td>0.45</td>\n",
       "      <td>24.95</td>\n",
       "      <td>Nintendo DS</td>\n",
       "      <td>T</td>\n",
       "      <td>2008</td>\n",
       "    </tr>\n",
       "    <tr>\n",
       "      <th>945</th>\n",
       "      <td>Tomb Raider: Underworld</td>\n",
       "      <td>1</td>\n",
       "      <td>True</td>\n",
       "      <td>Action</td>\n",
       "      <td>Eidos</td>\n",
       "      <td>75</td>\n",
       "      <td>0.44</td>\n",
       "      <td>17.95</td>\n",
       "      <td>PlayStation 3</td>\n",
       "      <td>T</td>\n",
       "      <td>2008</td>\n",
       "    </tr>\n",
       "    <tr>\n",
       "      <th>946</th>\n",
       "      <td>Advance Wars: Days of Ruin</td>\n",
       "      <td>4</td>\n",
       "      <td>True</td>\n",
       "      <td>Strategy</td>\n",
       "      <td>Nintendo</td>\n",
       "      <td>86</td>\n",
       "      <td>0.43</td>\n",
       "      <td>17.95</td>\n",
       "      <td>Nintendo DS</td>\n",
       "      <td>E</td>\n",
       "      <td>2008</td>\n",
       "    </tr>\n",
       "  </tbody>\n",
       "</table>\n",
       "<p>947 rows × 11 columns</p>\n",
       "</div>"
      ],
      "text/plain": [
       "                          Title  playerNum  Online  \\\n",
       "0             Super Mario 64 DS          1    True   \n",
       "1        Lumines: Puzzle Fusion          1    True   \n",
       "2            WarioWare Touched!          2    True   \n",
       "3      Hot Shots Golf: Open Tee          1    True   \n",
       "4                  Spider-Man 2          1    True   \n",
       "..                          ...        ...     ...   \n",
       "942                     De Blob          4    True   \n",
       "943  Sonic Riders: Zero Gravity          4    True   \n",
       "944               Rhythm Heaven          1    True   \n",
       "945     Tomb Raider: Underworld          1    True   \n",
       "946  Advance Wars: Days of Ruin          4    True   \n",
       "\n",
       "                              Genre   Publisher  RS  Sales     UP  \\\n",
       "0                            Action    Nintendo  85   4.69  24.95   \n",
       "1                          Strategy     Ubisoft  89   0.56  14.95   \n",
       "2    Action,Racing / Driving,Sports    Nintendo  81   0.54  22.95   \n",
       "3                            Sports        Sony  81   0.49  12.95   \n",
       "4                            Action  Activision  61   0.45  14.95   \n",
       "..                              ...         ...  ..    ...    ...   \n",
       "942                          Action         THQ  82   0.45  16.95   \n",
       "943                Racing / Driving        Sega  56   0.45  16.95   \n",
       "944                          Action    Nintendo  83   0.45  24.95   \n",
       "945                          Action       Eidos  75   0.44  17.95   \n",
       "946                        Strategy    Nintendo  86   0.43  17.95   \n",
       "\n",
       "           Console AgeRating  Year  \n",
       "0      Nintendo DS         E  2004  \n",
       "1         Sony PSP         E  2004  \n",
       "2      Nintendo DS         E  2004  \n",
       "3         Sony PSP         E  2004  \n",
       "4      Nintendo DS         E  2004  \n",
       "..             ...       ...   ...  \n",
       "942   Nintendo Wii         M  2008  \n",
       "943   Nintendo Wii         T  2008  \n",
       "944    Nintendo DS         T  2008  \n",
       "945  PlayStation 3         T  2008  \n",
       "946    Nintendo DS         E  2008  \n",
       "\n",
       "[947 rows x 11 columns]"
      ]
     },
     "execution_count": 3,
     "metadata": {},
     "output_type": "execute_result"
    }
   ],
   "source": [
    "games"
   ]
  },
  {
   "cell_type": "code",
   "execution_count": 4,
   "id": "2856518c",
   "metadata": {},
   "outputs": [
    {
     "name": "stdout",
     "output_type": "stream",
     "text": [
      "<class 'pandas.core.frame.DataFrame'>\n",
      "RangeIndex: 947 entries, 0 to 946\n",
      "Data columns (total 3 columns):\n",
      " #   Column   Non-Null Count  Dtype \n",
      "---  ------   --------------  ----- \n",
      " 0   Title    947 non-null    object\n",
      " 1   Genre    947 non-null    object\n",
      " 2   Console  947 non-null    object\n",
      "dtypes: object(3)\n",
      "memory usage: 22.3+ KB\n"
     ]
    }
   ],
   "source": [
    "game_sugg = games[['Title', 'Genre', 'Console']]\n",
    "game_sugg.info()"
   ]
  },
  {
   "cell_type": "code",
   "execution_count": 5,
   "id": "d9c2c0ff",
   "metadata": {},
   "outputs": [],
   "source": [
    "# games.dropna(inplace=True)"
   ]
  },
  {
   "cell_type": "code",
   "execution_count": 6,
   "id": "eca52a8a",
   "metadata": {},
   "outputs": [
    {
     "data": {
      "text/plain": [
       "0               Super Mario 64 DS\n",
       "1          Lumines: Puzzle Fusion\n",
       "2              WarioWare Touched!\n",
       "3        Hot Shots Golf: Open Tee\n",
       "4                    Spider-Man 2\n",
       "                  ...            \n",
       "942                       De Blob\n",
       "943    Sonic Riders: Zero Gravity\n",
       "944                 Rhythm Heaven\n",
       "945       Tomb Raider: Underworld\n",
       "946    Advance Wars: Days of Ruin\n",
       "Name: Title, Length: 947, dtype: object"
      ]
     },
     "execution_count": 6,
     "metadata": {},
     "output_type": "execute_result"
    }
   ],
   "source": [
    "games[\"Title\"]"
   ]
  },
  {
   "cell_type": "code",
   "execution_count": 7,
   "id": "eb5d6d91",
   "metadata": {},
   "outputs": [
    {
     "data": {
      "text/plain": [
       "Title          0\n",
       "playerNum      0\n",
       "Online         0\n",
       "Genre          0\n",
       "Publisher    171\n",
       "RS             0\n",
       "Sales          0\n",
       "UP             0\n",
       "Console        0\n",
       "AgeRating      0\n",
       "Year           0\n",
       "dtype: int64"
      ]
     },
     "execution_count": 7,
     "metadata": {},
     "output_type": "execute_result"
    }
   ],
   "source": [
    "games.isnull().sum()"
   ]
  },
  {
   "cell_type": "code",
   "execution_count": 8,
   "id": "270ff573",
   "metadata": {},
   "outputs": [],
   "source": [
    "# games.dropna(inplace=True)"
   ]
  },
  {
   "cell_type": "code",
   "execution_count": 9,
   "id": "09f29309",
   "metadata": {},
   "outputs": [],
   "source": [
    "# games.duplicated().value_counts()"
   ]
  },
  {
   "cell_type": "code",
   "execution_count": 10,
   "id": "97579c27",
   "metadata": {},
   "outputs": [],
   "source": [
    "# games=games.drop_duplicates(keep=\"first\", inplace=False)"
   ]
  },
  {
   "cell_type": "code",
   "execution_count": 11,
   "id": "9e358634",
   "metadata": {},
   "outputs": [],
   "source": [
    "from sklearn.feature_extraction.text import TfidfVectorizer"
   ]
  },
  {
   "cell_type": "code",
   "execution_count": 12,
   "id": "4a53778c",
   "metadata": {},
   "outputs": [],
   "source": [
    "vector_game = TfidfVectorizer(min_df = 3,\n",
    "                         max_features = None,\n",
    "                         strip_accents = 'unicode',\n",
    "                         analyzer = 'word',\n",
    "                         token_pattern = '\\w{2,}',\n",
    "                         ngram_range = (1,3),\n",
    "                         stop_words = 'english')"
   ]
  },
  {
   "cell_type": "code",
   "execution_count": 13,
   "id": "d6a261f7",
   "metadata": {},
   "outputs": [
    {
     "data": {
      "text/plain": [
       "(947, 518)"
      ]
     },
     "execution_count": 13,
     "metadata": {},
     "output_type": "execute_result"
    }
   ],
   "source": [
    "tfv_matrix=vector_game.fit_transform(games[\"Title\"])\n",
    "tfv_matrix.shape"
   ]
  },
  {
   "cell_type": "code",
   "execution_count": 14,
   "id": "418a8957",
   "metadata": {},
   "outputs": [],
   "source": [
    "from sklearn.metrics.pairwise import sigmoid_kernel"
   ]
  },
  {
   "cell_type": "code",
   "execution_count": 15,
   "id": "f4a745ac",
   "metadata": {},
   "outputs": [],
   "source": [
    "sig_game=sigmoid_kernel(tfv_matrix, tfv_matrix)"
   ]
  },
  {
   "cell_type": "code",
   "execution_count": 16,
   "id": "20b81349",
   "metadata": {},
   "outputs": [
    {
     "data": {
      "text/plain": [
       "array([[0.76240373, 0.76159416, 0.76159416, ..., 0.76159416, 0.76159416,\n",
       "        0.76159416],\n",
       "       [0.76159416, 0.76240373, 0.76159416, ..., 0.76159416, 0.76159416,\n",
       "        0.76159416],\n",
       "       [0.76159416, 0.76159416, 0.76159416, ..., 0.76159416, 0.76159416,\n",
       "        0.76159416],\n",
       "       ...,\n",
       "       [0.76159416, 0.76159416, 0.76159416, ..., 0.76159416, 0.76159416,\n",
       "        0.76159416],\n",
       "       [0.76159416, 0.76159416, 0.76159416, ..., 0.76159416, 0.76240373,\n",
       "        0.76159416],\n",
       "       [0.76159416, 0.76159416, 0.76159416, ..., 0.76159416, 0.76159416,\n",
       "        0.76240373]])"
      ]
     },
     "execution_count": 16,
     "metadata": {},
     "output_type": "execute_result"
    }
   ],
   "source": [
    "sig_game"
   ]
  },
  {
   "cell_type": "code",
   "execution_count": 17,
   "id": "fc46856d",
   "metadata": {},
   "outputs": [
    {
     "data": {
      "text/plain": [
       "(947, 947)"
      ]
     },
     "execution_count": 17,
     "metadata": {},
     "output_type": "execute_result"
    }
   ],
   "source": [
    "sig_game.shape"
   ]
  },
  {
   "cell_type": "code",
   "execution_count": 18,
   "id": "3685238e",
   "metadata": {},
   "outputs": [],
   "source": [
    "# index = pd.Series(games.index, index=games['Title']).drop_duplicates()\n",
    "index = pd.Series(games.index, index=games['Title'])"
   ]
  },
  {
   "cell_type": "code",
   "execution_count": 19,
   "id": "f9a759e7",
   "metadata": {},
   "outputs": [
    {
     "data": {
      "text/plain": [
       "Title\n",
       "Super Mario 64 DS               0\n",
       "Lumines: Puzzle Fusion          1\n",
       "WarioWare Touched!              2\n",
       "Hot Shots Golf: Open Tee        3\n",
       "Spider-Man 2                    4\n",
       "                             ... \n",
       "De Blob                       942\n",
       "Sonic Riders: Zero Gravity    943\n",
       "Rhythm Heaven                 944\n",
       "Tomb Raider: Underworld       945\n",
       "Advance Wars: Days of Ruin    946\n",
       "Length: 947, dtype: int64"
      ]
     },
     "execution_count": 19,
     "metadata": {},
     "output_type": "execute_result"
    }
   ],
   "source": [
    "index"
   ]
  },
  {
   "cell_type": "code",
   "execution_count": 20,
   "id": "efb8212b",
   "metadata": {},
   "outputs": [],
   "source": [
    "def recommend_game(title, sig_kern=sig_game):\n",
    "    indx = index[title]\n",
    "#     print(indx)\n",
    "\n",
    "    if isinstance(indx, list):\n",
    "        sigmoid_score = list(enumerate(sig_kern[indx[0]]))\n",
    "    else:\n",
    "        sigmoid_score = list(enumerate(sig_kern[indx]))\n",
    "    \n",
    "#     print(sigmoid_score)\n",
    "    sigmoid_score = sorted(sigmoid_score, key = lambda x:x[1], reverse = True)\n",
    "    sigmoid_score = sigmoid_score[1:4]\n",
    "    game_found = [i[0] for i in sigmoid_score]\n",
    "    return games.iloc[game_found]"
   ]
  },
  {
   "cell_type": "code",
   "execution_count": 21,
   "id": "704596d0",
   "metadata": {
    "scrolled": false
   },
   "outputs": [
    {
     "data": {
      "text/html": [
       "<div>\n",
       "<style scoped>\n",
       "    .dataframe tbody tr th:only-of-type {\n",
       "        vertical-align: middle;\n",
       "    }\n",
       "\n",
       "    .dataframe tbody tr th {\n",
       "        vertical-align: top;\n",
       "    }\n",
       "\n",
       "    .dataframe thead th {\n",
       "        text-align: right;\n",
       "    }\n",
       "</style>\n",
       "<table border=\"1\" class=\"dataframe\">\n",
       "  <thead>\n",
       "    <tr style=\"text-align: right;\">\n",
       "      <th></th>\n",
       "      <th>Title</th>\n",
       "      <th>playerNum</th>\n",
       "      <th>Online</th>\n",
       "      <th>Genre</th>\n",
       "      <th>Publisher</th>\n",
       "      <th>RS</th>\n",
       "      <th>Sales</th>\n",
       "      <th>UP</th>\n",
       "      <th>Console</th>\n",
       "      <th>AgeRating</th>\n",
       "      <th>Year</th>\n",
       "    </tr>\n",
       "  </thead>\n",
       "  <tbody>\n",
       "    <tr>\n",
       "      <th>1</th>\n",
       "      <td>Lumines: Puzzle Fusion</td>\n",
       "      <td>1</td>\n",
       "      <td>True</td>\n",
       "      <td>Strategy</td>\n",
       "      <td>Ubisoft</td>\n",
       "      <td>89</td>\n",
       "      <td>0.56</td>\n",
       "      <td>14.95</td>\n",
       "      <td>Sony PSP</td>\n",
       "      <td>E</td>\n",
       "      <td>2004</td>\n",
       "    </tr>\n",
       "    <tr>\n",
       "      <th>2</th>\n",
       "      <td>WarioWare Touched!</td>\n",
       "      <td>2</td>\n",
       "      <td>True</td>\n",
       "      <td>Action,Racing / Driving,Sports</td>\n",
       "      <td>Nintendo</td>\n",
       "      <td>81</td>\n",
       "      <td>0.54</td>\n",
       "      <td>22.95</td>\n",
       "      <td>Nintendo DS</td>\n",
       "      <td>E</td>\n",
       "      <td>2004</td>\n",
       "    </tr>\n",
       "    <tr>\n",
       "      <th>3</th>\n",
       "      <td>Hot Shots Golf: Open Tee</td>\n",
       "      <td>1</td>\n",
       "      <td>True</td>\n",
       "      <td>Sports</td>\n",
       "      <td>Sony</td>\n",
       "      <td>81</td>\n",
       "      <td>0.49</td>\n",
       "      <td>12.95</td>\n",
       "      <td>Sony PSP</td>\n",
       "      <td>E</td>\n",
       "      <td>2004</td>\n",
       "    </tr>\n",
       "  </tbody>\n",
       "</table>\n",
       "</div>"
      ],
      "text/plain": [
       "                      Title  playerNum  Online  \\\n",
       "1    Lumines: Puzzle Fusion          1    True   \n",
       "2        WarioWare Touched!          2    True   \n",
       "3  Hot Shots Golf: Open Tee          1    True   \n",
       "\n",
       "                            Genre Publisher  RS  Sales     UP      Console  \\\n",
       "1                        Strategy   Ubisoft  89   0.56  14.95     Sony PSP   \n",
       "2  Action,Racing / Driving,Sports  Nintendo  81   0.54  22.95  Nintendo DS   \n",
       "3                          Sports      Sony  81   0.49  12.95     Sony PSP   \n",
       "\n",
       "  AgeRating  Year  \n",
       "1         E  2004  \n",
       "2         E  2004  \n",
       "3         E  2004  "
      ]
     },
     "execution_count": 21,
     "metadata": {},
     "output_type": "execute_result"
    }
   ],
   "source": [
    "recommend_game('De Blob')"
   ]
  },
  {
   "cell_type": "code",
   "execution_count": 22,
   "id": "ee2150ff",
   "metadata": {},
   "outputs": [
    {
     "ename": "ValueError",
     "evalue": "The truth value of an array with more than one element is ambiguous. Use a.any() or a.all()",
     "output_type": "error",
     "traceback": [
      "\u001b[1;31m---------------------------------------------------------------------------\u001b[0m",
      "\u001b[1;31mValueError\u001b[0m                                Traceback (most recent call last)",
      "\u001b[1;32m<ipython-input-22-a4ec6339b0cd>\u001b[0m in \u001b[0;36m<module>\u001b[1;34m\u001b[0m\n\u001b[1;32m----> 1\u001b[1;33m \u001b[0mrecommend_game\u001b[0m\u001b[1;33m(\u001b[0m\u001b[1;34m'Spider-Man 2'\u001b[0m\u001b[1;33m)\u001b[0m\u001b[1;33m\u001b[0m\u001b[1;33m\u001b[0m\u001b[0m\n\u001b[0m",
      "\u001b[1;32m<ipython-input-20-601697ee1bea>\u001b[0m in \u001b[0;36mrecommend_game\u001b[1;34m(title, sig_kern)\u001b[0m\n\u001b[0;32m      9\u001b[0m \u001b[1;33m\u001b[0m\u001b[0m\n\u001b[0;32m     10\u001b[0m \u001b[1;31m#     print(sigmoid_score)\u001b[0m\u001b[1;33m\u001b[0m\u001b[1;33m\u001b[0m\u001b[1;33m\u001b[0m\u001b[0m\n\u001b[1;32m---> 11\u001b[1;33m     \u001b[0msigmoid_score\u001b[0m \u001b[1;33m=\u001b[0m \u001b[0msorted\u001b[0m\u001b[1;33m(\u001b[0m\u001b[0msigmoid_score\u001b[0m\u001b[1;33m,\u001b[0m \u001b[0mkey\u001b[0m \u001b[1;33m=\u001b[0m \u001b[1;32mlambda\u001b[0m \u001b[0mx\u001b[0m\u001b[1;33m:\u001b[0m\u001b[0mx\u001b[0m\u001b[1;33m[\u001b[0m\u001b[1;36m1\u001b[0m\u001b[1;33m]\u001b[0m\u001b[1;33m,\u001b[0m \u001b[0mreverse\u001b[0m \u001b[1;33m=\u001b[0m \u001b[1;32mTrue\u001b[0m\u001b[1;33m)\u001b[0m\u001b[1;33m\u001b[0m\u001b[1;33m\u001b[0m\u001b[0m\n\u001b[0m\u001b[0;32m     12\u001b[0m     \u001b[0msigmoid_score\u001b[0m \u001b[1;33m=\u001b[0m \u001b[0msigmoid_score\u001b[0m\u001b[1;33m[\u001b[0m\u001b[1;36m1\u001b[0m\u001b[1;33m:\u001b[0m\u001b[1;36m4\u001b[0m\u001b[1;33m]\u001b[0m\u001b[1;33m\u001b[0m\u001b[1;33m\u001b[0m\u001b[0m\n\u001b[0;32m     13\u001b[0m     \u001b[0mgame_found\u001b[0m \u001b[1;33m=\u001b[0m \u001b[1;33m[\u001b[0m\u001b[0mi\u001b[0m\u001b[1;33m[\u001b[0m\u001b[1;36m0\u001b[0m\u001b[1;33m]\u001b[0m \u001b[1;32mfor\u001b[0m \u001b[0mi\u001b[0m \u001b[1;32min\u001b[0m \u001b[0msigmoid_score\u001b[0m\u001b[1;33m]\u001b[0m\u001b[1;33m\u001b[0m\u001b[1;33m\u001b[0m\u001b[0m\n",
      "\u001b[1;31mValueError\u001b[0m: The truth value of an array with more than one element is ambiguous. Use a.any() or a.all()"
     ]
    }
   ],
   "source": [
    "recommend_game('Spider-Man 2')"
   ]
  },
  {
   "cell_type": "code",
   "execution_count": 23,
   "id": "c9257ce8",
   "metadata": {},
   "outputs": [
    {
     "data": {
      "text/html": [
       "<div>\n",
       "<style scoped>\n",
       "    .dataframe tbody tr th:only-of-type {\n",
       "        vertical-align: middle;\n",
       "    }\n",
       "\n",
       "    .dataframe tbody tr th {\n",
       "        vertical-align: top;\n",
       "    }\n",
       "\n",
       "    .dataframe thead th {\n",
       "        text-align: right;\n",
       "    }\n",
       "</style>\n",
       "<table border=\"1\" class=\"dataframe\">\n",
       "  <thead>\n",
       "    <tr style=\"text-align: right;\">\n",
       "      <th></th>\n",
       "      <th>Title</th>\n",
       "      <th>playerNum</th>\n",
       "      <th>Online</th>\n",
       "      <th>Genre</th>\n",
       "      <th>Publisher</th>\n",
       "      <th>RS</th>\n",
       "      <th>Sales</th>\n",
       "      <th>UP</th>\n",
       "      <th>Console</th>\n",
       "      <th>AgeRating</th>\n",
       "      <th>Year</th>\n",
       "    </tr>\n",
       "  </thead>\n",
       "  <tbody>\n",
       "    <tr>\n",
       "      <th>434</th>\n",
       "      <td>Madden NFL 08</td>\n",
       "      <td>4</td>\n",
       "      <td>True</td>\n",
       "      <td>Sports</td>\n",
       "      <td>EA</td>\n",
       "      <td>85</td>\n",
       "      <td>2.32</td>\n",
       "      <td>9.95</td>\n",
       "      <td>X360</td>\n",
       "      <td>E</td>\n",
       "      <td>2007</td>\n",
       "    </tr>\n",
       "    <tr>\n",
       "      <th>467</th>\n",
       "      <td>Madden NFL 08</td>\n",
       "      <td>4</td>\n",
       "      <td>True</td>\n",
       "      <td>Sports</td>\n",
       "      <td>EA</td>\n",
       "      <td>81</td>\n",
       "      <td>0.94</td>\n",
       "      <td>9.95</td>\n",
       "      <td>PlayStation 3</td>\n",
       "      <td>T</td>\n",
       "      <td>2007</td>\n",
       "    </tr>\n",
       "    <tr>\n",
       "      <th>475</th>\n",
       "      <td>Madden NFL 08</td>\n",
       "      <td>4</td>\n",
       "      <td>True</td>\n",
       "      <td>Sports</td>\n",
       "      <td>EA</td>\n",
       "      <td>76</td>\n",
       "      <td>0.86</td>\n",
       "      <td>12.95</td>\n",
       "      <td>Nintendo Wii</td>\n",
       "      <td>M</td>\n",
       "      <td>2007</td>\n",
       "    </tr>\n",
       "  </tbody>\n",
       "</table>\n",
       "</div>"
      ],
      "text/plain": [
       "             Title  playerNum  Online   Genre Publisher  RS  Sales     UP  \\\n",
       "434  Madden NFL 08          4    True  Sports        EA  85   2.32   9.95   \n",
       "467  Madden NFL 08          4    True  Sports        EA  81   0.94   9.95   \n",
       "475  Madden NFL 08          4    True  Sports        EA  76   0.86  12.95   \n",
       "\n",
       "           Console AgeRating  Year  \n",
       "434           X360         E  2007  \n",
       "467  PlayStation 3         T  2007  \n",
       "475   Nintendo Wii         M  2007  "
      ]
     },
     "execution_count": 23,
     "metadata": {},
     "output_type": "execute_result"
    }
   ],
   "source": [
    "recommend_game('Madden NFL 2005')"
   ]
  }
 ],
 "metadata": {
  "kernelspec": {
   "display_name": "Python 3",
   "language": "python",
   "name": "python3"
  },
  "language_info": {
   "codemirror_mode": {
    "name": "ipython",
    "version": 3
   },
   "file_extension": ".py",
   "mimetype": "text/x-python",
   "name": "python",
   "nbconvert_exporter": "python",
   "pygments_lexer": "ipython3",
   "version": "3.8.8"
  }
 },
 "nbformat": 4,
 "nbformat_minor": 5
}
